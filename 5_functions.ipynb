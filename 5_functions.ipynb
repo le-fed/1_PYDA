{
 "cells": [
  {
   "cell_type": "markdown",
   "metadata": {},
   "source": [
    "Вам нужно помочь секретарю автоматизировать работу. Для этого нужно написать программу, которая будет на основе хранимых данных исполнять пользовательские команды.\n",
    "\n",
    "Исходные данные имеют следующую структуру:\n",
    "\n",
    "перечень всех документов documents \n",
    "перечень полок, на которых хранятся документы (если документ есть в documents, то он обязательно должен быть и в directories)\n",
    "directories\n",
    "Общие требования к программе:\n",
    "\n",
    "- код должен быть грамотно декомпозирован (каждая функция отвечает за свою конкретную задачу, дублирующийся функционал переиспользуется, а его код не повторяется);\n",
    "- в коде отсутствуют глобальные переменные (за исключением documents и directories);\n",
    "- пользовательский ввод обрабатывается в цикле while до тех пор, пока пользователь явно не завершит программу (вводом команды \"q\")."
   ]
  },
  {
   "cell_type": "code",
   "execution_count": 219,
   "metadata": {},
   "outputs": [],
   "source": [
    "#перечень всех документов\n",
    "documents = [\n",
    " {'type': 'passport', 'number': '2207 876234', 'name': 'Василий Гупкин'},\n",
    " {'type': 'invoice', 'number': '11-2', 'name': 'Геннадий Покемонов'},\n",
    " {'type': 'insurance', 'number': '10006', 'name': 'Аристарх Павлов'}\n",
    "]\n",
    "#перечень полок, на которых хранятся документы (если документ есть в documents, то он обязательно должен быть и в directories)\n",
    "directories = {\n",
    " '1': ['2207 876234', '11-2'],\n",
    " '2': ['10006'],\n",
    " '3': []\n",
    "}"
   ]
  },
  {
   "cell_type": "markdown",
   "metadata": {},
   "source": [
    "## Задание 1"
   ]
  },
  {
   "cell_type": "markdown",
   "metadata": {},
   "source": [
    "### Пункт 1. Пользователь по команде \"p\" может узнать владельца документа по его номеру"
   ]
  },
  {
   "cell_type": "code",
   "execution_count": 220,
   "metadata": {},
   "outputs": [],
   "source": [
    "def command_p():\n",
    "    user_input = input('Введите номер документа:')\n",
    "    for doc in documents: \n",
    "        if doc['number'] == user_input:\n",
    "            return(doc['name'])\n",
    "        else: \n",
    "            continue\n",
    "    return('Документ не найден в базе')        "
   ]
  },
  {
   "cell_type": "code",
   "execution_count": 222,
   "metadata": {},
   "outputs": [
    {
     "name": "stdout",
     "output_type": "stream",
     "text": [
      "Введите номер документа:10006\n"
     ]
    },
    {
     "data": {
      "text/plain": [
       "'Аристарх Павлов'"
      ]
     },
     "execution_count": 222,
     "metadata": {},
     "output_type": "execute_result"
    }
   ],
   "source": [
    "command_p()"
   ]
  },
  {
   "cell_type": "markdown",
   "metadata": {},
   "source": [
    "### Пункт 2. Пользователь по команде \"s\" может по номеру документа узнать на какой полке он хранится"
   ]
  },
  {
   "cell_type": "code",
   "execution_count": 223,
   "metadata": {},
   "outputs": [],
   "source": [
    "def command_s():\n",
    "    user_input = input('Введите номер документа:')\n",
    "    for directory in directories: \n",
    "        if user_input in directories[directory]:\n",
    "            return(directory)\n",
    "        else: \n",
    "            continue\n",
    "    return('Документ не найден в базе')    "
   ]
  },
  {
   "cell_type": "code",
   "execution_count": 225,
   "metadata": {},
   "outputs": [
    {
     "name": "stdout",
     "output_type": "stream",
     "text": [
      "Введите номер документа:42\n"
     ]
    },
    {
     "data": {
      "text/plain": [
       "'Документ не найден в базе'"
      ]
     },
     "execution_count": 225,
     "metadata": {},
     "output_type": "execute_result"
    }
   ],
   "source": [
    "command_s()"
   ]
  },
  {
   "cell_type": "code",
   "execution_count": null,
   "metadata": {},
   "outputs": [],
   "source": [
    "def doc_shelf(document):\n",
    "    #функция вывода номера полки без пользовательского ввода для работы дальше\n",
    "    for directory in directories: \n",
    "        if document in directories[directory]:\n",
    "            return(directory)\n",
    "        else: \n",
    "            continue\n",
    "    return('Документ не найден в базе') "
   ]
  },
  {
   "cell_type": "code",
   "execution_count": 226,
   "metadata": {},
   "outputs": [
    {
     "data": {
      "text/plain": [
       "'1'"
      ]
     },
     "execution_count": 226,
     "metadata": {},
     "output_type": "execute_result"
    }
   ],
   "source": [
    "doc_shelf('11-2')"
   ]
  },
  {
   "cell_type": "markdown",
   "metadata": {},
   "source": [
    "### Пункт 3. Пользователь по команде \"l\" может увидеть полную информацию по всем документам"
   ]
  },
  {
   "cell_type": "code",
   "execution_count": 227,
   "metadata": {},
   "outputs": [],
   "source": [
    "def command_i():\n",
    "    for doc in documents: \n",
    "        result = '№: ' + doc['number'] + ', тип: ' + doc['type'] + ', владелец: ' + doc['name'] + ', полка хранения: ' + doc_shelf(doc['number'])        \n",
    "        print(result)"
   ]
  },
  {
   "cell_type": "code",
   "execution_count": 229,
   "metadata": {},
   "outputs": [
    {
     "name": "stdout",
     "output_type": "stream",
     "text": [
      "№: 2207 876234, тип: passport, владелец: Василий Гупкин, полка хранения: 1\n",
      "№: 11-2, тип: invoice, владелец: Геннадий Покемонов, полка хранения: 1\n",
      "№: 10006, тип: insurance, владелец: Аристарх Павлов, полка хранения: 2\n"
     ]
    }
   ],
   "source": [
    "command_i()"
   ]
  },
  {
   "cell_type": "markdown",
   "metadata": {},
   "source": [
    "### Пункт 4. Пользователь по команде \"ads\" может добавить новую полку"
   ]
  },
  {
   "cell_type": "code",
   "execution_count": 230,
   "metadata": {},
   "outputs": [],
   "source": [
    "def command_ads():\n",
    "    user_input = input('Введите номер полки:')\n",
    "    if user_input in directories:\n",
    "        result = 'Такая полка уже существует. Текущий перечень полок:' + ', '.join(directories.keys())\n",
    "    else:\n",
    "        directories[user_input] = []\n",
    "        result = 'Полка добавлена. Текущий перечень полок:' + ', '.join(directories.keys())\n",
    "    return result"
   ]
  },
  {
   "cell_type": "code",
   "execution_count": 231,
   "metadata": {},
   "outputs": [
    {
     "name": "stdout",
     "output_type": "stream",
     "text": [
      "Введите номер полки:10\n"
     ]
    },
    {
     "data": {
      "text/plain": [
       "'Полка добавлена. Текущий перечень полок:1, 2, 3, 10'"
      ]
     },
     "execution_count": 231,
     "metadata": {},
     "output_type": "execute_result"
    }
   ],
   "source": [
    "command_ads()"
   ]
  },
  {
   "cell_type": "markdown",
   "metadata": {},
   "source": [
    "### Пункт 5. Пользователь по команде \"ds\" может удалить существующую полку из данных (только если она пустая)"
   ]
  },
  {
   "cell_type": "code",
   "execution_count": 232,
   "metadata": {},
   "outputs": [],
   "source": [
    "def command_ds():\n",
    "    user_input = input('Введите номер полки:')\n",
    "    if user_input in directories and directories[user_input] != []:\n",
    "        result = 'На полке есть документы, удалите их перед удалением полки. Текущий перечень полок:' + ', '.join(directories.keys())\n",
    "    elif user_input in directories and directories[user_input] == []:\n",
    "        del(directories[user_input])\n",
    "        result = 'Полка удалена. Текущий перечень полок:' + ', '.join(directories.keys())\n",
    "    else:\n",
    "        result = 'Такой полки не существует. Текущий перечень полок:' + ', '.join(directories.keys())\n",
    "    return result"
   ]
  },
  {
   "cell_type": "code",
   "execution_count": 234,
   "metadata": {},
   "outputs": [
    {
     "name": "stdout",
     "output_type": "stream",
     "text": [
      "Введите номер полки:10\n"
     ]
    },
    {
     "data": {
      "text/plain": [
       "'Такой полки не существует. Текущий перечень полок:1, 2, 3'"
      ]
     },
     "execution_count": 234,
     "metadata": {},
     "output_type": "execute_result"
    }
   ],
   "source": [
    "command_ds()"
   ]
  },
  {
   "cell_type": "code",
   "execution_count": 235,
   "metadata": {},
   "outputs": [],
   "source": [
    "# собираю вместе\n",
    "def main():\n",
    "    while True:\n",
    "        user_input = input('Введите команду:')\n",
    "        if user_input == 'p':\n",
    "            print(command_p())\n",
    "        elif user_input == 's':\n",
    "            print(command_s())\n",
    "        elif user_input == 'i':\n",
    "            print(command_i())\n",
    "        elif user_input == 'ads':\n",
    "            print(command_ads())\n",
    "        elif user_input == 'ds':\n",
    "            print(command_ds())            \n",
    "        elif user_input == 'q':\n",
    "            break\n",
    "        else:\n",
    "            print('Несуществующая команда')"
   ]
  },
  {
   "cell_type": "code",
   "execution_count": 236,
   "metadata": {},
   "outputs": [
    {
     "name": "stdout",
     "output_type": "stream",
     "text": [
      "Введите команду:з\n",
      "Несуществующая команда\n",
      "Введите команду:p\n",
      "Введите номер документа:10006\n",
      "Аристарх Павлов\n",
      "Введите команду:s\n",
      "Введите номер документа:10006\n",
      "2\n",
      "Введите команду:q\n"
     ]
    }
   ],
   "source": [
    "main()"
   ]
  },
  {
   "cell_type": "markdown",
   "metadata": {},
   "source": [
    "### Задание 2 (необязательное)\n",
    "### Пункт 1. Пользователь по команде \"ad\" может добавить новый документ в данные"
   ]
  },
  {
   "cell_type": "code",
   "execution_count": 237,
   "metadata": {},
   "outputs": [],
   "source": [
    "def doc_exists(document):\n",
    "    # проверка документа\n",
    "    for doc in documents: \n",
    "        if doc['number'] == document:\n",
    "            result = True\n",
    "            break\n",
    "        else: \n",
    "            result = False\n",
    "    return result   "
   ]
  },
  {
   "cell_type": "code",
   "execution_count": 238,
   "metadata": {},
   "outputs": [
    {
     "data": {
      "text/plain": [
       "False"
      ]
     },
     "execution_count": 238,
     "metadata": {},
     "output_type": "execute_result"
    }
   ],
   "source": [
    "doc_exists('42')"
   ]
  },
  {
   "cell_type": "code",
   "execution_count": 243,
   "metadata": {},
   "outputs": [],
   "source": [
    "def command_ad():\n",
    "    number = input('Введите номер документа:')    \n",
    "    doc_type = input('Введите тип документа:')    \n",
    "    name = input('Введите владельца документа:')   \n",
    "    shelf = input('Введите номер полки:')\n",
    "    \n",
    "    if doc_exists(number) == False and shelf in directories:\n",
    "        documents.append({'type': doc_type, 'number': number, 'name': name}) \n",
    "        directories[shelf].append(number)\n",
    "        print('Документ добавлен.')           \n",
    "    elif doc_exists(number) == False and shelf not in directories:\n",
    "        print('Такой полки не существует. Добавьте полку командой ads.')            \n",
    "    else: \n",
    "        print('Такой документ уже существует')\n",
    "        \n",
    "    command_i()"
   ]
  },
  {
   "cell_type": "code",
   "execution_count": 244,
   "metadata": {},
   "outputs": [
    {
     "name": "stdout",
     "output_type": "stream",
     "text": [
      "Введите номер документа:2\n",
      "Введите тип документа:3\n",
      "Введите владельца документа:3\n",
      "Введите номер полки:2\n",
      "Документ добавлен.\n",
      "№: 2207 876234, тип: passport, владелец: Василий Гупкин, полка хранения: 1\n",
      "№: 11-2, тип: invoice, владелец: Геннадий Покемонов, полка хранения: 1\n",
      "№: 10006, тип: insurance, владелец: Аристарх Павлов, полка хранения: 2\n",
      "№: 42, тип: multipass, владелец: Lila, полка хранения: 3\n",
      "№: 2, тип: 3, владелец: 3, полка хранения: 2\n"
     ]
    }
   ],
   "source": [
    "command_ad()"
   ]
  },
  {
   "cell_type": "markdown",
   "metadata": {},
   "source": [
    "### Пункт 2. Пользователь по команде \"d\" может удалить документ из данных"
   ]
  },
  {
   "cell_type": "code",
   "execution_count": 246,
   "metadata": {},
   "outputs": [],
   "source": [
    "def command_d():\n",
    "    number = input('Введите номер документа:')    \n",
    "    \n",
    "    for doc in documents: \n",
    "        if doc['number'] == number:\n",
    "            doc_index = documents.index(doc)\n",
    "            break\n",
    "        else: \n",
    "            doc_index = None\n",
    "\n",
    "    if doc_index is None:\n",
    "        print('Документ не найден в базе.')\n",
    "        print('Текущий список документов:')\n",
    "    else:\n",
    "        del(documents[doc_index])\n",
    "        print('Документ удален.')\n",
    "        print('Текущий список документов:')\n",
    "        \n",
    "    command_i()"
   ]
  },
  {
   "cell_type": "code",
   "execution_count": 247,
   "metadata": {},
   "outputs": [
    {
     "name": "stdout",
     "output_type": "stream",
     "text": [
      "Введите номер документа:2\n",
      "Документ удален.\n",
      "Текущий список документов:\n",
      "№: 2207 876234, тип: passport, владелец: Василий Гупкин, полка хранения: 1\n",
      "№: 11-2, тип: invoice, владелец: Геннадий Покемонов, полка хранения: 1\n",
      "№: 10006, тип: insurance, владелец: Аристарх Павлов, полка хранения: 2\n",
      "№: 42, тип: multipass, владелец: Lila, полка хранения: 3\n"
     ]
    }
   ],
   "source": [
    "command_d()"
   ]
  },
  {
   "cell_type": "markdown",
   "metadata": {},
   "source": [
    "### Пункт 3. Пользователь по команде \"m\" может переместить документ с полки на полку"
   ]
  },
  {
   "cell_type": "code",
   "execution_count": 248,
   "metadata": {},
   "outputs": [],
   "source": [
    "def command_m():\n",
    "    number = input('Введите номер документа:')      \n",
    "    new_shelf = input('Введите номер полки:')\n",
    "    \n",
    "    if doc_exists(number) == True and new_shelf in directories:\n",
    "        #ищу текущую полку через функцию из п1.2 \n",
    "        old_shelf = doc_shelf(number)\n",
    "        #удаляю с нее            \n",
    "        directories[old_shelf].remove(number)     \n",
    "        #добавляю на новую полку\n",
    "        directories[new_shelf].append(number)\n",
    "        print('Документ перемещен.')  \n",
    "        print('Текущий список документов:')\n",
    "        command_i()\n",
    "    elif doc_exists(number) == True and shelf not in directories:\n",
    "        print('Такой полки не существует. Текущий перечень полок:' + ', '.join(directories.keys()))           \n",
    "    else: \n",
    "        print('Документ не найден в базе.')        \n",
    "        print('Текущий список документов:')\n",
    "        command_i()\n",
    "        "
   ]
  },
  {
   "cell_type": "code",
   "execution_count": 250,
   "metadata": {},
   "outputs": [
    {
     "name": "stdout",
     "output_type": "stream",
     "text": [
      "Введите номер документа:42\n",
      "Введите номер полки:1\n",
      "Документ перемещен.\n",
      "Текущий список документов:\n",
      "№: 2207 876234, тип: passport, владелец: Василий Гупкин, полка хранения: 1\n",
      "№: 11-2, тип: invoice, владелец: Геннадий Покемонов, полка хранения: 1\n",
      "№: 10006, тип: insurance, владелец: Аристарх Павлов, полка хранения: 3\n",
      "№: 42, тип: multipass, владелец: Lila, полка хранения: 1\n"
     ]
    }
   ],
   "source": [
    "command_m()"
   ]
  },
  {
   "cell_type": "code",
   "execution_count": 251,
   "metadata": {},
   "outputs": [],
   "source": [
    "# собираю вместе\n",
    "def main_additional():\n",
    "    while True:\n",
    "        user_input = input('Введите команду:')\n",
    "        if user_input == 'p':\n",
    "            print(command_p())\n",
    "        elif user_input == 's':\n",
    "            print(command_s())\n",
    "        elif user_input == 'i':\n",
    "            print(command_i())\n",
    "        elif user_input == 'ads':\n",
    "            print(command_ads())\n",
    "        elif user_input == 'ds':\n",
    "            print(command_ds())\n",
    "        elif user_input == 'ad':\n",
    "            print(command_ad())\n",
    "        elif user_input == 'd':\n",
    "            print(command_d())\n",
    "        elif user_input == 'ds':\n",
    "            print(command_m())     \n",
    "        elif user_input == 'm':\n",
    "            break\n",
    "        else:\n",
    "            print('Несуществующая команда')"
   ]
  },
  {
   "cell_type": "code",
   "execution_count": null,
   "metadata": {},
   "outputs": [],
   "source": [
    "main_additional()"
   ]
  }
 ],
 "metadata": {
  "kernelspec": {
   "display_name": "Python 3",
   "language": "python",
   "name": "python3"
  },
  "language_info": {
   "codemirror_mode": {
    "name": "ipython",
    "version": 3
   },
   "file_extension": ".py",
   "mimetype": "text/x-python",
   "name": "python",
   "nbconvert_exporter": "python",
   "pygments_lexer": "ipython3",
   "version": "3.8.5"
  }
 },
 "nbformat": 4,
 "nbformat_minor": 4
}
