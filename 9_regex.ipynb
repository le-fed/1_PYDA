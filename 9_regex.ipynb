{
 "cells": [
  {
   "cell_type": "code",
   "execution_count": 2,
   "metadata": {},
   "outputs": [],
   "source": [
    "import re"
   ]
  },
  {
   "cell_type": "markdown",
   "metadata": {},
   "source": [
    "### Задание 1\n",
    "Напишите функцию, которая принимает на вход строку и проверяет является ли она валидным транспортным номером (1 буква, 3 цифры, 2 буквы, 2-3 цифры). Обратите внимание, что не все буквы кириллического алфавита используются в транспортных номерах.\n",
    "\n",
    "Если номер валиден, то функция должна возвращать отдельно номер и регион.\n",
    "\n",
    "Примеры работы программы:\n",
    "\n",
    "car_id = 'A222BC96'\n",
    "Результат: Номер A222BС валиден. Регион: 96\n",
    "\n",
    "car_id = 'АБ22ВВ193'\n",
    "Результат: Номер не валиден"
   ]
  },
  {
   "cell_type": "code",
   "execution_count": 240,
   "metadata": {},
   "outputs": [],
   "source": [
    "def car_id_check(car_id):\n",
    "    \"\"\"\n",
    "    проверка валидности номера машины\n",
    "    \"\"\"\n",
    "    #по примеру работы программы - добавила латиницу, хотя кажется ее быть не должно \n",
    "    correct_car_id = r'[ABEKMHOPCTYXАВЕКМНОРСТУХ]{1}\\d{3}[ABEKMHOPCTYXАВЕКМНОРСТУХ]{2}\\d{2,3}'\n",
    "    check_result = re.match(correct_car_id, car_id)\n",
    "    \n",
    "    if check_result != [] and check_result is not None and (len(car_id) == 8 or len(car_id) == 9):\n",
    "        car_id_by_parts = re.search(r'([ABEKMHOPCTYXАВЕКМНОРСТУХ]{1}\\d{3}[ABEKMHOPCTYXАВЕКМНОРСТУХ]{2})(\\d{2,3})', car_id)\n",
    "        result_to_print = 'Результат: Номер '+car_id_by_parts.group(1)+' валиден. Регион: '+car_id_by_parts.group(2)\n",
    "    else:\n",
    "        result_to_print = 'Номер не валиден'\n",
    "       \n",
    "    return result_to_print"
   ]
  },
  {
   "cell_type": "code",
   "execution_count": 241,
   "metadata": {},
   "outputs": [
    {
     "name": "stdout",
     "output_type": "stream",
     "text": [
      "Результат: Номер A222BC валиден. Регион: 96\n",
      "Номер не валиден\n"
     ]
    }
   ],
   "source": [
    "print(car_id_check('A222BC96'))\n",
    "print(car_id_check('АБ22ВВ193'))"
   ]
  },
  {
   "cell_type": "markdown",
   "metadata": {},
   "source": [
    "### Задание 2\n",
    "Напишите функцию, которая будет удалять все последовательные повторы слов из заданной строки при помощи регулярных выражений.\n",
    "\n",
    "Пример работы программы:\n",
    "\n",
    "some_string = 'Напишите функцию функцию, которая будет будет будет будет удалять все все все все последовательные повторы слов из из из из заданной строки строки при помощи регулярных выражений.'\n",
    "\n",
    "Результат:\n",
    "Напишите функцию, которая будет удалять все последовательные повторы слов из заданной строки при помощи регулярных выражений."
   ]
  },
  {
   "cell_type": "code",
   "execution_count": 331,
   "metadata": {},
   "outputs": [],
   "source": [
    "some_string = 'Напишите функцию функцию, которая будет будет будет будет удалять все все все все последовательные повторы слов из из из из заданной строки строки при помощи регулярных выражений.'"
   ]
  },
  {
   "cell_type": "code",
   "execution_count": 332,
   "metadata": {},
   "outputs": [],
   "source": [
    "def delete_repeats(some_string):\n",
    "    #добавляю в начало строки пробел, для случая когда повторяется первое слово:\n",
    "    some_string_a = ' '+some_string.lower()\n",
    "    result = re.sub(r'(\\s\\w+)\\1+', r'\\1', some_string_a)\n",
    "    print(result[1:].capitalize())"
   ]
  },
  {
   "cell_type": "code",
   "execution_count": 334,
   "metadata": {},
   "outputs": [
    {
     "name": "stdout",
     "output_type": "stream",
     "text": [
      "Напишите функцию, которая будет удалять все последовательные повторы слов из заданной строки при помощи регулярных выражений.\n"
     ]
    }
   ],
   "source": [
    "delete_repeats(some_string)"
   ]
  },
  {
   "cell_type": "markdown",
   "metadata": {},
   "source": [
    "### Задание 3\n",
    "Напишите функцию, которая будет возвращать акроним по переданной в нее строке со словами.\n",
    "\n",
    "Примеры работы программы:\n",
    "\n",
    "some_words = 'Информационные технологии'\n",
    "Результат: ИТ\n",
    "\n",
    "some_words = 'Near Field Communication'\n",
    "Результат: NFC"
   ]
  },
  {
   "cell_type": "code",
   "execution_count": 335,
   "metadata": {},
   "outputs": [],
   "source": [
    "some_words = 'Информационные технологии'\n",
    "\n",
    "def acronym(some_words):\n",
    "    r = re.findall(r'\\w+', some_words)\n",
    "    acronym = ''\n",
    "    \n",
    "    for i, word in enumerate(r):\n",
    "        acronym += r[i][0]\n",
    "    \n",
    "    return acronym.upper()"
   ]
  },
  {
   "cell_type": "code",
   "execution_count": 336,
   "metadata": {},
   "outputs": [
    {
     "name": "stdout",
     "output_type": "stream",
     "text": [
      "ИТ\n"
     ]
    }
   ],
   "source": [
    "print(acronym('Информационные технологии'))"
   ]
  },
  {
   "cell_type": "markdown",
   "metadata": {},
   "source": [
    "### Задание 4\n",
    "Напишите функцию, которая будет принимать на вход список email-адресов и выводить их распределение по доменным зонам.\n",
    "\n",
    "Пример работы программы:\n",
    "\n",
    "emails = [‘test@gmail.com, xyz@test.in, test@ya.ru, xyz@mail.ru, xyz@ya.ru’, xyz@gmail.com]\n",
    "\n",
    "Результат:\n",
    "\n",
    "gmail.com: 2\n",
    "test.in: 1\n",
    "ya.ru: 2\n",
    "mail.ru: 1"
   ]
  },
  {
   "cell_type": "code",
   "execution_count": 136,
   "metadata": {},
   "outputs": [],
   "source": [
    "emails = ['test@gmail.com', 'xyz@test.in', 'test@ya.ru', 'xyz@mail.ru', 'xyz@ya.ru', 'xyz@gmail.com']"
   ]
  },
  {
   "cell_type": "code",
   "execution_count": 337,
   "metadata": {},
   "outputs": [],
   "source": [
    "def domen_count(emails):\n",
    "    domen_dict = {}\n",
    "    \n",
    "    for email in emails:\n",
    "        r = re.split('@', email)\n",
    "        domen = r[1]\n",
    "\n",
    "        if domen not in domen_dict:\n",
    "            domen_dict[domen] = 1\n",
    "        else:\n",
    "            domen_dict[domen] += 1\n",
    "    return print(domen_dict)"
   ]
  },
  {
   "cell_type": "code",
   "execution_count": 338,
   "metadata": {},
   "outputs": [
    {
     "name": "stdout",
     "output_type": "stream",
     "text": [
      "{'gmail.com': 2, 'test.in': 1, 'ya.ru': 2, 'mail.ru': 1}\n"
     ]
    }
   ],
   "source": [
    "domen_count(emails)"
   ]
  },
  {
   "cell_type": "markdown",
   "metadata": {},
   "source": [
    "### Задание 5 (необязательное)\n",
    "\n",
    "Напишите функцию, которая будет подсчитывать сколько слов начинается на гласные, а сколько на согласные буквы в тексте (текст может быть написан как с использованием букв кириллицы, так и латиницы).\n",
    "\n",
    "Пример работы программы:\n",
    "\n",
    "some_text = ‘Эталонной реализацией Python является интерпретатор CPython, поддерживающий большинство активно используемых платформ. Он распространяется под свободной лицензией Python Software Foundation License, позволяющей использовать его без ограничений в любых приложениях, включая проприетарные.’\n",
    "\n",
    "Результат:\n",
    "\n",
    "Слов на гласные буквы: 9\n",
    "Слов на согласные буквы: 21"
   ]
  },
  {
   "cell_type": "code",
   "execution_count": 339,
   "metadata": {},
   "outputs": [],
   "source": [
    "some_text = 'Эталонной реализацией Python является интерпретатор CPython, поддерживающий большинство активно используемых платформ. Он распространяется под свободной лицензией Python Software Foundation License, позволяющей использовать его без ограничений в любых приложениях, включая проприетарные.'"
   ]
  },
  {
   "cell_type": "code",
   "execution_count": 377,
   "metadata": {},
   "outputs": [],
   "source": [
    "def vowel_consonant_count(some_text):\n",
    "    word_list = re.findall(r'\\w+', some_text.lower())\n",
    "    first_vowel_count = 0\n",
    "    \n",
    "    for word in word_list:\n",
    "        vowel = re.match(r'[aeiouyауоыиэяюёе]', word)\n",
    "        if vowel is not None:\n",
    "            first_vowel_count += 1\n",
    "        else:\n",
    "            pass\n",
    "        \n",
    "    print('Слов на гласные буквы: '+str(first_vowel_count))\n",
    "    print('Слов на согласные буквы: '+str(len(word_list) - first_vowel_count))"
   ]
  },
  {
   "cell_type": "code",
   "execution_count": 378,
   "metadata": {},
   "outputs": [
    {
     "name": "stdout",
     "output_type": "stream",
     "text": [
      "Слов на гласные буквы: 9\n",
      "Слов на согласные буквы: 21\n"
     ]
    }
   ],
   "source": [
    " vowel_consonant_count(some_text)"
   ]
  },
  {
   "cell_type": "markdown",
   "metadata": {},
   "source": [
    "### Задание 6 (необязательное)\n",
    "\n",
    "Напишите функцию, которая будет проверять номер сотового телефона на валидность, если он валиден, то переводить его в формат:\n",
    "+7-xxx-xxx-xx-xx\n",
    "Постарайтесь предусмотреть как можно больше адекватных форматов изначального ввода номера. Примеры работы программы:\n",
    "\n",
    "phone = '+7 955 555-55-55’\n",
    "Результат: +7-950-555-55-55\n",
    "\n",
    "phone = '8(955)555-55-55’\n",
    "Результат: +7-950-555-55-55\n",
    "\n",
    "phone = '+7 955 555 55 55’\n",
    "Результат: +7-950-555-55-55\n",
    "\n",
    "phone = '7(955) 555-55-55’\n",
    "Результат: +7-950-555-55-55\n",
    "\n",
    "phone = '423-555-55-5555’\n",
    "Результат: Номер не валиден\n",
    "\n",
    "phone = '123-456-789’\n",
    "Результат: Номер не валиден"
   ]
  },
  {
   "cell_type": "code",
   "execution_count": 459,
   "metadata": {},
   "outputs": [],
   "source": [
    "def phone_format(phone):\n",
    "    #убираю все знаки\n",
    "    phone_numbers = re.sub('\\D','', phone)\n",
    "    \n",
    "    #Проверяю на валидность (!российские сотовые номера)\n",
    "    #длина 11 символов - в функции требуем код страны\n",
    "    if len(phone_numbers) != 11:\n",
    "        result = 'Номер не валиден'\n",
    "    #начало с 7 или 8    \n",
    "    elif re.match(r'[^7-8]', phone_numbers):\n",
    "        result = 'Номер не валиден'\n",
    "    #на втором месте не 9    \n",
    "    elif re.match(r'[7-8][^9]', phone_numbers):\n",
    "        result = 'Номер не валиден'\n",
    "    else:\n",
    "        phone_to_print = re.search(r'(\\d)(\\d{3})(\\d{3})(\\d{2})(\\d{2})', phone_numbers)\n",
    "        result = str('+7-'+phone_to_print.group(2)+'-'+phone_to_print.group(3)+'-'+phone_to_print.group(4)+'-'+phone_to_print.group(5))\n",
    "    return result"
   ]
  },
  {
   "cell_type": "code",
   "execution_count": 460,
   "metadata": {},
   "outputs": [
    {
     "name": "stdout",
     "output_type": "stream",
     "text": [
      "+7-955-555-55-55\n",
      "+7-955-555-55-55\n",
      "+7-955-555-55-55\n",
      "+7-955-555-55-55\n",
      "Номер не валиден\n",
      "Номер не валиден\n",
      "Номер не валиден\n",
      "Номер не валиден\n"
     ]
    }
   ],
   "source": [
    "print(phone_format('+7 955 555-55-55'))\n",
    "print(phone_format('8(955)555-55-55'))\n",
    "print(phone_format('+7 955 555 55 55'))\n",
    "print(phone_format('7(955) 555-55-55'))\n",
    "print(phone_format('423-555-55-5555'))\n",
    "print(phone_format('123-456-789'))\n",
    "print(phone_format('+5 955 555 55 55'))\n",
    "print(phone_format('+8 255 555 55 55'))"
   ]
  }
 ],
 "metadata": {
  "kernelspec": {
   "display_name": "Python 3",
   "language": "python",
   "name": "python3"
  },
  "language_info": {
   "codemirror_mode": {
    "name": "ipython",
    "version": 3
   },
   "file_extension": ".py",
   "mimetype": "text/x-python",
   "name": "python",
   "nbconvert_exporter": "python",
   "pygments_lexer": "ipython3",
   "version": "3.8.5"
  }
 },
 "nbformat": 4,
 "nbformat_minor": 4
}
