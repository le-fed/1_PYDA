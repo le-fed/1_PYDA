{
 "cells": [
  {
   "cell_type": "markdown",
   "metadata": {},
   "source": [
    "### Задание 1\n",
    "Дана переменная, в которой хранится слово из латинских букв. Напишите код, который выводит на экран:\n",
    "\n",
    "среднюю букву, если число букв в слове нечетное;\n",
    "две средних буквы, если число букв четное."
   ]
  },
  {
   "cell_type": "code",
   "execution_count": 21,
   "metadata": {},
   "outputs": [
    {
     "name": "stdout",
     "output_type": "stream",
     "text": [
      "es\n"
     ]
    }
   ],
   "source": [
    "word = 'test'\n",
    "\n",
    "if len(word) % 2 == 0:\n",
    "    print(word[int(len(word)/2-1):int(len(word)/2+1)])\n",
    "else: \n",
    "    print(word[int(len(word)/2):int(len(word)/2+1)])"
   ]
  },
  {
   "cell_type": "markdown",
   "metadata": {},
   "source": [
    "### Задание 2\n",
    "Напишите программу, которая последовательно запрашивает у пользователя числа (по одному за раз) и после первого нуля выводит сумму всех ранее введенных чисел."
   ]
  },
  {
   "cell_type": "code",
   "execution_count": 28,
   "metadata": {},
   "outputs": [
    {
     "name": "stdout",
     "output_type": "stream",
     "text": [
      "Введите число:1\n",
      "Введите число:1\n",
      "Введите число:1\n",
      "Введите число:1\n",
      "Введите число:1\n",
      "Введите число:0\n",
      "5\n"
     ]
    }
   ],
   "source": [
    "sum_of_inputs = 0\n",
    "\n",
    "while True:\n",
    "    x = int(input('Введите число:'))\n",
    "    if x != 0:\n",
    "        sum_of_inputs = sum_of_inputs + x\n",
    "    else: \n",
    "        print(sum_of_inputs)\n",
    "        break"
   ]
  },
  {
   "cell_type": "markdown",
   "metadata": {},
   "source": [
    "### Задание 3\n",
    "Мы делаем MVP dating-сервиса, и у нас есть список парней и девушек.\n",
    "Выдвигаем гипотезу: лучшие рекомендации мы получим, если просто отсортируем имена по алфавиту и познакомим людей с одинаковыми индексами после сортировки! Но мы не будем никого знакомить, если кто-то может остаться без пары"
   ]
  },
  {
   "cell_type": "code",
   "execution_count": 70,
   "metadata": {},
   "outputs": [
    {
     "name": "stdout",
     "output_type": "stream",
     "text": [
      "Внимание, кто-то может остаться без пары!\n"
     ]
    }
   ],
   "source": [
    "#boys = ['Peter', 'Alex', 'John', 'Arthur', 'Richard']\n",
    "boys = ['Peter', 'Alex', 'John', 'Arthur', 'Richard', 'Michael']\n",
    "girls = ['Kate', 'Liza', 'Kira', 'Emma', 'Trisha']\n",
    "\n",
    "if len(boys) != len(girls):\n",
    "    print('Внимание, кто-то может остаться без пары!')\n",
    "else: \n",
    "    print('Идеальные пары:')\n",
    "    for b, g in zip(sorted(boys),sorted(girls)):\n",
    "        print(b, 'и' , g)\n"
   ]
  },
  {
   "cell_type": "markdown",
   "metadata": {},
   "source": [
    "### Задание 4\n",
    "У нас есть список, содержащий информацию о среднедневной температуре в Фаренгейтах за произвольный период по странам (структура данных в примере). Необходимо написать код, который рассчитает среднюю температуру за период в Цельсиях(!) для каждой страны."
   ]
  },
  {
   "cell_type": "code",
   "execution_count": 92,
   "metadata": {},
   "outputs": [
    {
     "name": "stdout",
     "output_type": "stream",
     "text": [
      "Thailand - 23.9 C\n",
      "Germany - 13.8 C\n",
      "Russia -  3.7 C\n",
      "Poland - 12.0 C\n"
     ]
    }
   ],
   "source": [
    "countries_temperature = [\n",
    "['Thailand', [75.2, 77, 78.8, 73.4, 68, 75.2, 77]],\n",
    "['Germany', [57.2, 55.4, 59, 59, 53.6]],\n",
    "['Russia', [35.6, 37.4, 39.2, 41, 42.8, 39.2, 35.6]],\n",
    "['Poland', [50, 50, 53.6, 57.2, 55.4, 55.4]]\n",
    "]\n",
    "\n",
    "for country, temp in countries_temperature:\n",
    "#        print(country, '-' , (sum(temp) / len(temp) - 32) * 5 / 9, 'С')\n",
    "        print('{0} - {1:4.1f} C'.format(country,(sum(temp) / len(temp) - 32) * 5 / 9))"
   ]
  },
  {
   "cell_type": "markdown",
   "metadata": {},
   "source": [
    "### Задание 5 (необязательное)\n",
    "Дан поток логов по количеству просмотренных страниц для каждого пользователя. Вам необходимо написать алгоритм, который считает среднее значение просмотров на пользователя. Т. е. надо посчитать отношение суммы всех просмотров к количеству уникальных пользователей."
   ]
  },
  {
   "cell_type": "code",
   "execution_count": 51,
   "metadata": {},
   "outputs": [
    {
     "name": "stdout",
     "output_type": "stream",
     "text": [
      "[['2018-01-01', 'user1', '3'], ['2018-01-07', 'user1', '4'], ['2018-03-29', 'user1', '1'], ['2018-04-04', 'user1', '13'], ['2018-01-05', 'user2', '7'], ['2018-06-14', 'user3', '4'], ['2018-07-02', 'user3', '10'], ['2018-03-21', 'user4', '19'], ['2018-03-22', 'user4', '4'], ['2018-04-22', 'user4', '8'], ['2018-05-03', 'user4', '9'], ['2018-05-11', 'user4', '11']]\n",
      "93\n",
      "23.25\n"
     ]
    }
   ],
   "source": [
    "stream = [\n",
    "    '2018-01-01,user1,3',\n",
    "    '2018-01-07,user1,4',\n",
    "    '2018-03-29,user1,1',\n",
    "    '2018-04-04,user1,13',\n",
    "    '2018-01-05,user2,7',\n",
    "    '2018-06-14,user3,4',\n",
    "    '2018-07-02,user3,10',\n",
    "    '2018-03-21,user4,19',\n",
    "    '2018-03-22,user4,4',\n",
    "    '2018-04-22,user4,8',\n",
    "    '2018-05-03,user4,9',\n",
    "    '2018-05-11,user4,11',\n",
    "]\n",
    "\n",
    "#список с раздельными элементами\n",
    "stream_for_work = []\n",
    "\n",
    "for line in stream:\n",
    "    stream_for_work.append(line.split(','))\n",
    "\n",
    "print(stream_for_work)\n",
    "\n",
    "#сумма просмотров\n",
    "ttl_sum = 0\n",
    "\n",
    "for i in range(len(stream_for_work)):\n",
    "    ttl_sum = ttl_sum + int(stream_for_work[i][2])\n",
    "print(ttl_sum)  \n",
    "\n",
    "#количество уникальных пользователей\n",
    "ttl_user = []\n",
    "\n",
    "for i in range(len(stream_for_work)):\n",
    "    if ttl_user.count(stream_for_work[i][1]) == 0:\n",
    "        ttl_user.append(stream_for_work[i][1])\n",
    "    else:\n",
    "        continue\n",
    "\n",
    "#среднее значение просмотров на пользователя   \n",
    "print(ttl_sum/len(ttl_user))"
   ]
  },
  {
   "cell_type": "markdown",
   "metadata": {},
   "source": [
    "### Задание 6 (необязательное)\n",
    "Необходимо у пользователя запрашивать набор чисел разделенных пробелом. В результате в отсортированном порядке должны выводиться числа, которые повторяются в вводе более одного раза."
   ]
  },
  {
   "cell_type": "code",
   "execution_count": 15,
   "metadata": {},
   "outputs": [
    {
     "name": "stdout",
     "output_type": "stream",
     "text": [
      "Введите числа:1 1 5 6 7 8 2 0 0 3 3 3 \n",
      "0 1 3 "
     ]
    }
   ],
   "source": [
    "input_string = input('Введите числа:')\n",
    "\n",
    "input_list = sorted(input_string.split(' '))\n",
    "result_list = []\n",
    "\n",
    "for number in input_list:\n",
    "#    if print(number, end=' ')\n",
    "    if input_list.count(number) == 1:\n",
    "        pass\n",
    "    elif result_list.count(number) != 0:\n",
    "        pass\n",
    "    else: \n",
    "        result_list.append(number)\n",
    "        \n",
    "for number in result_list:\n",
    "    print(number, end=' ')"
   ]
  }
 ],
 "metadata": {
  "kernelspec": {
   "display_name": "Python 3",
   "language": "python",
   "name": "python3"
  },
  "language_info": {
   "codemirror_mode": {
    "name": "ipython",
    "version": 3
   },
   "file_extension": ".py",
   "mimetype": "text/x-python",
   "name": "python",
   "nbconvert_exporter": "python",
   "pygments_lexer": "ipython3",
   "version": "3.8.5"
  }
 },
 "nbformat": 4,
 "nbformat_minor": 4
}
