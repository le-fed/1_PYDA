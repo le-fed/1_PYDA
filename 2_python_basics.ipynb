{
 "cells": [
  {
   "cell_type": "markdown",
   "metadata": {},
   "source": [
    "##### Задание 1\n",
    "\n",
    "Даны 2 переменных, в которых хранятся строки произвольной длины: phrase_1 и phrase_2.\n",
    "Напишите код, который проверяет какая из этих строк длиннее."
   ]
  },
  {
   "cell_type": "code",
   "execution_count": 7,
   "metadata": {},
   "outputs": [
    {
     "name": "stdout",
     "output_type": "stream",
     "text": [
      "Фразы равной длины\n"
     ]
    }
   ],
   "source": [
    "phrase_1 = 'Насколько проще было бы писать программы, если бы не заказчики'\n",
    "phrase_2 = 'Насколько проще было бы писать программы, если бы не заказчики'\n",
    "\n",
    "if len(phrase_1) > len(phrase_2):\n",
    "    print('Фраза 1 длиннее фразы 2')\n",
    "elif len(phrase_1) < len(phrase_2):\n",
    "    print('Фраза 2 длиннее фразы 1')\n",
    "else: print('Фразы равной длины')"
   ]
  },
  {
   "cell_type": "markdown",
   "metadata": {},
   "source": [
    "##### Задание 2\n",
    "\n",
    "Дана переменная, в которой хранится четырехзначное число (год). \n",
    "Необходимо написать программу, которая выведет, является ли данный год високосным или обычным."
   ]
  },
  {
   "cell_type": "code",
   "execution_count": 22,
   "metadata": {},
   "outputs": [
    {
     "name": "stdout",
     "output_type": "stream",
     "text": [
      "Обычный год\n"
     ]
    }
   ],
   "source": [
    "year = 2020\n",
    "\n",
    "if year%4 == 0 and year%400 == 0:\n",
    "    print('Високосный год')\n",
    "else: print('Обычный год')"
   ]
  },
  {
   "cell_type": "markdown",
   "metadata": {},
   "source": [
    "##### Задание 3\n",
    "\n",
    "Необходимо написать программу, которая будет запрашивать у пользователя месяц и дату рождения \n",
    "и выводить соответствующий знак зодиака."
   ]
  },
  {
   "cell_type": "code",
   "execution_count": null,
   "metadata": {},
   "outputs": [],
   "source": [
    "day = int(input('Введите день:'))\n",
    "month = str(input('Введите месяц:'))\n",
    "\n",
    "if (month == 'Март' and day >= 24) or (month == 'Апрель' and day <= 20):\n",
    "    print('Овен')\n",
    "elif (month == 'Апрель' and day >= 21) or (month == 'Май' and day <= 20):\n",
    "    print('Телец')\n",
    "elif (month == 'Май' and day >= 21) or (month == 'Июнь' and day <= 20):\n",
    "    print('Близнецы') \n",
    "elif (month == 'Июнь' and day >= 21) or (month == 'Июль' and day <= 22):\n",
    "    print('Рак')\n",
    "elif (month == 'Июль' and day >= 23) or (month == 'Август' and day <= 22):\n",
    "    print('Лев')\n",
    "elif (month == 'Август' and day >= 23) or (month == 'Сентябрь' and day <= 22):\n",
    "    print('Дева')    \n",
    "elif (month == 'Сентябрь' and day >= 23) or (month == 'Октябрь' and day <= 22):\n",
    "    print('Весы')\n",
    "elif (month == 'Октябрь' and day >= 23) or (month == 'Ноябрь' and day <= 22):\n",
    "    print('Скорипон')\n",
    "elif (month == 'Ноябрь' and day >= 23) or (month == 'Декабрь' and day <= 21):\n",
    "    print('Стрелец')    \n",
    "elif (month == 'Декабрь' and day >= 22) or (month == 'Январь' and day <= 19):\n",
    "    print('Козерог')\n",
    "elif (month == 'Январь' and day >= 20) or (month == 'Февраль' and day <= 19):\n",
    "    print('Водолей')\n",
    "elif (month == 'Февраль' and day >= 20) or (month == 'Март' and day <= 20):\n",
    "    print('Рыбы')    \n",
    "else: print('Проверьте месяц рождения')   "
   ]
  },
  {
   "cell_type": "markdown",
   "metadata": {},
   "source": [
    "##### Задание 4\n",
    "\n",
    "Вам нужно написать программу для подбора упаковок по размерам товара. Размеры хранятся в переменных (в сантиметрах).\n",
    "Используйте следующие правила:\n",
    "\n",
    "- если каждое из трех измерений менее 15 сантиметров, то выведите на экран “Коробка №1”;\n",
    "- если хотя бы одно из измерений больше 15 сантиметров, но менее 50 сантиметров, то выводите “Коробка №2”;\n",
    "- если длина товара больше 2 метров, то выводите “Упаковка для лыж”;\n",
    "- во всех остальных случаях выводите “Стандартная коробка №3”."
   ]
  },
  {
   "cell_type": "code",
   "execution_count": 29,
   "metadata": {},
   "outputs": [
    {
     "name": "stdout",
     "output_type": "stream",
     "text": [
      "Упаковка для лыж\n"
     ]
    }
   ],
   "source": [
    "width = 45\n",
    "length = 205\n",
    "height = 15\n",
    "\n",
    "if width + length + height < 15:\n",
    "    print('Коробка №1')\n",
    "elif width + length + height < 50 and (width > 15 or length > 15 or height > 15):\n",
    "    print('Коробка №2')\n",
    "elif length > 200:\n",
    "    print('Упаковка для лыж')\n",
    "else: print('Стандартная коробка №3')    "
   ]
  },
  {
   "cell_type": "markdown",
   "metadata": {},
   "source": [
    "##### Задание 5 (необязательное)\n",
    "\n",
    "Дана переменная, в которой хранится шестизначное число (номер проездного билета). \n",
    "Напишите программу, которая будет определять, является ли данный билет “счастливым”. \n",
    "Билет считается счастливым, если сумма первых трех цифр совпадает с суммой последних трех цифр номера."
   ]
  },
  {
   "cell_type": "code",
   "execution_count": 38,
   "metadata": {},
   "outputs": [
    {
     "name": "stdout",
     "output_type": "stream",
     "text": [
      "Счастливый билет\n"
     ]
    }
   ],
   "source": [
    "ticket = '123321'\n",
    "\n",
    "if int((ticket[0])) + int((ticket[1])) + int((ticket[2])) == int((ticket[3])) + int((ticket[4])) + int((ticket[5])):\n",
    "    print('Счастливый билет')\n",
    "else: print('Несчастливый билет') "
   ]
  },
  {
   "cell_type": "markdown",
   "metadata": {},
   "source": [
    "##### Задание 6 (необязательное)\n",
    "\n",
    "Напишите программу, которая сможет вычислять площади трех фигур (круг, треугольник и прямоугольник). \n",
    "Тип фигуры запрашиваем через пользовательский ввод, после чего делаем запрос характеристик фигуры:\n",
    "- если пользователь выбрал круг, запрашиваем его радиус,\n",
    "- если треугольник – длины трех его сторон;\n",
    "- если прямоугольник – длины двух его сторон."
   ]
  },
  {
   "cell_type": "code",
   "execution_count": 3,
   "metadata": {},
   "outputs": [
    {
     "name": "stdout",
     "output_type": "stream",
     "text": [
      "Введите тип фигуры:треугольник\n",
      "Длина первой стороны:5\n",
      "Длина второй стороны:8\n",
      "Длина третьей стороны:7\n",
      "17.320508075688775\n"
     ]
    }
   ],
   "source": [
    "figure = str(input('Введите тип фигуры:'))\n",
    "\n",
    "if figure == 'круг':\n",
    "    radius = int(input('Радиус:'))\n",
    "    print(3.14 * radius **2)\n",
    "elif figure == 'треугольник':\n",
    "    first = int(input('Длина первой стороны:'))\n",
    "    second = int(input('Длина второй стороны:'))\n",
    "    third = int(input('Длина третьей стороны:'))\n",
    "    print( ((first + second + third)/2 * ((first + second + third)/2 - first) *((first + second + third)/2 - second) *((first + second + third)/2 - third))**0.5 )\n",
    "elif figure == 'прямоугольник':\n",
    "    first = int(input('Длина первой стороны:'))\n",
    "    second = int(input('Длина второй стороны:'))\n",
    "    print( first * second )\n",
    "else: print('Проверьте вводимы данные')    "
   ]
  },
  {
   "cell_type": "code",
   "execution_count": null,
   "metadata": {},
   "outputs": [],
   "source": []
  }
 ],
 "metadata": {
  "kernelspec": {
   "display_name": "Python 3",
   "language": "python",
   "name": "python3"
  },
  "language_info": {
   "codemirror_mode": {
    "name": "ipython",
    "version": 3
   },
   "file_extension": ".py",
   "mimetype": "text/x-python",
   "name": "python",
   "nbconvert_exporter": "python",
   "pygments_lexer": "ipython3",
   "version": "3.8.5"
  }
 },
 "nbformat": 4,
 "nbformat_minor": 4
}
